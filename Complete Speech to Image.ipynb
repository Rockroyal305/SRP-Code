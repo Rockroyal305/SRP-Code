{
 "cells": [
  {
   "cell_type": "code",
   "execution_count": 2,
   "id": "750eba52",
   "metadata": {},
   "outputs": [
    {
     "name": "stdout",
     "output_type": "stream",
     "text": [
      "File was succesfully input!\n"
     ]
    }
   ],
   "source": [
    "# Read in audio file\n",
    "import os\n",
    "\n",
    "# Find out which language to use\n",
    "lang_code = input(\n",
    "    \"What Language Do You Want to Use? (e.g. en-US, de-DE, fr-FR, hi-IN, zh-CN, etc;)\")\n",
    "if(lang_code != \"en-US\"):\n",
    "    print(\"Sorry, only english is supported!\")\n",
    "    quit()\n",
    "\n",
    "found_file = False\n",
    "file_path = input(\n",
    "    \"Enter the path to an audio file. \\n Please note that it must be a .wav file recorded at 8kHz:\")\n",
    "while(found_file == False):\n",
    "    found_file = os.path.exists(file_path) and file_path[-3:] == \"wav\"\n",
    "    if(found_file == False):\n",
    "        file_path = input(\"That file-path was invalid, Please try again:\")\n",
    "print(\"File was succesfully input!\")\n"
   ]
  },
  {
   "cell_type": "code",
   "execution_count": 3,
   "id": "2bc411b3",
   "metadata": {},
   "outputs": [
    {
     "name": "stdout",
     "output_type": "stream",
     "text": [
      "File was successfully uploaded to Google Cloud Storage!\n"
     ]
    }
   ],
   "source": [
    "# Push file to GCS\n",
    "\n",
    "from google.cloud import storage\n",
    "\n",
    "os.environ[\"GOOGLE_APPLICATION_CREDENTIALS\"] = r\"C:\\Users\\rockr\\Desktop\\Code\\SRP\\sample-key.json\"\n",
    "\n",
    "def upload_blob(bucket_name, source_file_name, destination_blob_name):\n",
    "    # Uploads a file to the bucket.\n",
    "\n",
    "    # The ID of your GCS bucket\n",
    "    # bucket_name = \"your-bucket-name\"\n",
    "\n",
    "    # The path to your file to upload\n",
    "    # source_file_name = \"local/path/to/file\"\n",
    "    \n",
    "    # The ID of your GCS object\n",
    "    # destination_blob_name = \"storage-object-name\"\n",
    "\n",
    "    storage_client = storage.Client()\n",
    "    bucket = storage_client.bucket(bucket_name)\n",
    "    blob = bucket.blob(destination_blob_name)\n",
    "\n",
    "    blob.upload_from_filename(source_file_name)\n",
    "\n",
    "    # print(\n",
    "    #     \"File {} uploaded to {}.\".format(\n",
    "    #         source_file_name, destination_blob_name\n",
    "    #     )\n",
    "    # )\n",
    "    print(\"File was successfully uploaded to Google Cloud Storage!\")\n",
    "\n",
    "\n",
    "upload_blob(\"srp_speech_to_text\", file_path, \"audio_file_for_transcription.wav\")\n"
   ]
  },
  {
   "cell_type": "code",
   "execution_count": 4,
   "id": "a512fba5",
   "metadata": {},
   "outputs": [
    {
     "name": "stderr",
     "output_type": "stream",
     "text": [
      "C:\\Users\\rockr\\anaconda3\\lib\\site-packages\\pkg_resources\\__init__.py:116: PkgResourcesDeprecationWarning: 4.0.0-unsupported is an invalid version and will not be supported in a future release\n",
      "  warnings.warn(\n"
     ]
    },
    {
     "name": "stdout",
     "output_type": "stream",
     "text": [
      "the Birch canoes slid on the smooth planks\n",
      "glue the sheet to the dark blue background\n",
      "it is easy to tell the death of a well\n",
      "these days a chicken leg is a verb dish\n",
      "rice is often served in round bowls\n",
      "the juice of lemons makes find punch\n",
      "the box was down beside the park truck\n",
      "the Hogs of food shop corn and garbage\n",
      "4 hours of study work Facebook\n",
      "a large size in stockings is hard to sell\n"
     ]
    }
   ],
   "source": [
    "# Transcribe file, turn it into sentences\n",
    "\n",
    "from google.cloud import speech\n",
    "\n",
    "# Instantiates a client\n",
    "client = speech.SpeechClient()\n",
    "\n",
    "# The name of the audio file to transcribe\n",
    "gcs_uri = \"gs://srp_speech_to_text/audio_file_for_transcription.wav\"\n",
    "\n",
    "audio = speech.RecognitionAudio(uri=gcs_uri)\n",
    "\n",
    "config = speech.RecognitionConfig(\n",
    "    encoding=speech.RecognitionConfig.AudioEncoding.LINEAR16,\n",
    "    sample_rate_hertz=8000,\n",
    "    language_code=\"en-US\",\n",
    ")\n",
    "\n",
    "# Detects speech in the audio file\n",
    "response = client.recognize(config=config, audio=audio)\n",
    "\n",
    "sentences = []\n",
    "for result in response.results:\n",
    "    s = (format(result.alternatives[0].transcript))\n",
    "    if(s[0] == ' '):\n",
    "        s = s[:0] + s[1:]\n",
    "    # print(s)\n",
    "    sentences.append(s)\n"
   ]
  }
 ],
 "metadata": {
  "kernelspec": {
   "display_name": "Python 3 (ipykernel)",
   "language": "python",
   "name": "python3"
  },
  "language_info": {
   "codemirror_mode": {
    "name": "ipython",
    "version": 3
   },
   "file_extension": ".py",
   "mimetype": "text/x-python",
   "name": "python",
   "nbconvert_exporter": "python",
   "pygments_lexer": "ipython3",
   "version": "3.9.7"
  }
 },
 "nbformat": 4,
 "nbformat_minor": 5
}
