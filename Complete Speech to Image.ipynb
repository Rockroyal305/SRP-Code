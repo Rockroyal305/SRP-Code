{
 "cells": [
  {
   "cell_type": "code",
   "execution_count": 3,
   "id": "750eba52",
   "metadata": {},
   "outputs": [],
   "source": [
    "# Read in audio file\n",
    "import os\n",
    "\n",
    "\n",
    "found_file = False\n",
    "file_path = input(\n",
    "    \"Enter the path to an audio file. \\n Please note that it must be a .wav file recorded at 8kHz:\")\n",
    "while(found_file == False):\n",
    "    found_file = os.path.exists(file_path) and file_path[-3:] == \"wav\"\n",
    "    if(found_file == False):\n",
    "        file_path = input(\"That file-path was invalid, Please try again:\")"
   ]
  },
  {
   "cell_type": "code",
   "execution_count": 4,
   "id": "2bc411b3",
   "metadata": {},
   "outputs": [
    {
     "name": "stdout",
     "output_type": "stream",
     "text": [
      "File C:\\Users\\rockr\\Desktop\\Code\\SRP\\SRP Audio Files\\Speech10_8k.wav uploaded to audio file.\n"
     ]
    }
   ],
   "source": [
    "# Push file to GCS\n",
    "from google.cloud import storage\n",
    "\n",
    "os.environ[\"GOOGLE_APPLICATION_CREDENTIALS\"] = r\"C:\\Users\\rockr\\Desktop\\Code\\SRP\\sample-key.json\"\n",
    "\n",
    "def upload_blob(bucket_name, source_file_name, destination_blob_name):\n",
    "    # Uploads a file to the bucket.\n",
    "    # The ID of your GCS bucket\n",
    "    # bucket_name = \"your-bucket-name\"\n",
    "    # The path to your file to upload\n",
    "    # source_file_name = \"local/path/to/file\"\n",
    "    # The ID of your GCS object\n",
    "    # destination_blob_name = \"storage-object-name\"\n",
    "\n",
    "    storage_client = storage.Client()\n",
    "    bucket = storage_client.bucket(bucket_name)\n",
    "    blob = bucket.blob(destination_blob_name)\n",
    "\n",
    "    blob.upload_from_filename(source_file_name)\n",
    "\n",
    "    print(\n",
    "        \"File {} uploaded to {}.\".format(\n",
    "            source_file_name, destination_blob_name\n",
    "        )\n",
    "    )\n",
    "\n",
    "\n",
    "upload_blob(\"srp_speech_to_text\", file_path, \"audio_file_for_transcription.wav\")\n"
   ]
  }
 ],
 "metadata": {
  "kernelspec": {
   "display_name": "Python 3 (ipykernel)",
   "language": "python",
   "name": "python3"
  },
  "language_info": {
   "codemirror_mode": {
    "name": "ipython",
    "version": 3
   },
   "file_extension": ".py",
   "mimetype": "text/x-python",
   "name": "python",
   "nbconvert_exporter": "python",
   "pygments_lexer": "ipython3",
   "version": "3.9.7"
  }
 },
 "nbformat": 4,
 "nbformat_minor": 5
}
